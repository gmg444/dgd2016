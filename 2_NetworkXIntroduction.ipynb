{
 "metadata": {
  "name": "",
  "signature": "sha256:75c84a6c691a8f73e11e2eb1ca1914b555cda94e8f921f3ae31def8fe3529ec3"
 },
 "nbformat": 3,
 "nbformat_minor": 0,
 "worksheets": [
  {
   "cells": [
    {
     "cell_type": "markdown",
     "metadata": {},
     "source": [
      "## NetworkX Introduction"
     ]
    },
    {
     "cell_type": "markdown",
     "metadata": {},
     "source": [
      "Next, let's look at some simple networks in NetworkX.  First, we need to **import** the <a href=\"https://networkx.github.io/\">NetworkX</a> package. If we alias it as \"nx\", we can save some typing:"
     ]
    },
    {
     "cell_type": "code",
     "collapsed": false,
     "input": [
      "import networkx as nx  # Note \"as\" gives us a shorthand for accessing the components within the NetworkX package.\n",
      "import random as rand\n",
      "import pylab as plt\n",
      "import warnings # Wakari issues some warnings due to its versions of matplotlib and networkx - let's ignore them for now.\n",
      "warnings.filterwarnings(\"ignore\")"
     ],
     "language": "python",
     "metadata": {},
     "outputs": []
    },
    {
     "cell_type": "markdown",
     "metadata": {},
     "source": [
      "###Simple graph\n",
      "To start, we can create a simple un-directed graph:"
     ]
    },
    {
     "cell_type": "code",
     "collapsed": false,
     "input": [
      "g = nx.Graph()\n",
      "type(g)"
     ],
     "language": "python",
     "metadata": {},
     "outputs": []
    },
    {
     "cell_type": "markdown",
     "metadata": {},
     "source": [
      "And add some nodes and edges using the add_node and add_edge methods:"
     ]
    },
    {
     "cell_type": "code",
     "collapsed": false,
     "input": [
      "g.add_node(1)\n",
      "g.add_node(2)\n",
      "g.add_node(3)\n",
      "g.nodes()"
     ],
     "language": "python",
     "metadata": {},
     "outputs": []
    },
    {
     "cell_type": "code",
     "collapsed": false,
     "input": [
      "g.add_edge(1,2)\n",
      "g.add_edge(2,3)\n",
      "g.add_edge(3,1)\n",
      "print g.edges()"
     ],
     "language": "python",
     "metadata": {},
     "outputs": []
    },
    {
     "cell_type": "markdown",
     "metadata": {},
     "source": [
      "Now let's draw it with the matplotlib and networkx libraries:"
     ]
    },
    {
     "cell_type": "code",
     "collapsed": false,
     "input": [
      "pylab.rcParams['figure.figsize'] = (5.0, 5.0)  # Sets the plot output size\n",
      "nx.draw(g)\n",
      "plt.show()  "
     ],
     "language": "python",
     "metadata": {},
     "outputs": []
    },
    {
     "cell_type": "markdown",
     "metadata": {},
     "source": [
      "###Adding Data\n",
      "\n",
      "Nodes and edges can each have data asssociated with them.  NetworkX does this by associating a dictionary with each element, so, for example, we can call the same add_node / add_edge functions with a data attribute.\n",
      "\n",
      "Let's start again with an empty graph:"
     ]
    },
    {
     "cell_type": "code",
     "collapsed": false,
     "input": [
      "g = nx.Graph()"
     ],
     "language": "python",
     "metadata": {},
     "outputs": []
    },
    {
     "cell_type": "markdown",
     "metadata": {},
     "source": [
      "...and substitute state names and populations for integers:"
     ]
    },
    {
     "cell_type": "code",
     "collapsed": false,
     "input": [
      "g.add_node(\"California\", { \"population\": 38332521})\n",
      "g.add_node(\"New York\", { \"population\": 26448193})\n",
      "g.add_node(\"Texas\", { \"population\": 19651127})"
     ],
     "language": "python",
     "metadata": {},
     "outputs": []
    },
    {
     "cell_type": "markdown",
     "metadata": {},
     "source": [
      "Let's look at the new nodes:"
     ]
    },
    {
     "cell_type": "code",
     "collapsed": false,
     "input": [
      "print g.nodes() # Note the data parameters tells networkx to include the node's data in the returned value.\n",
      "print g.nodes(data=True) # Note the data parameters tells networkx to include the node's data in the returned value."
     ],
     "language": "python",
     "metadata": {},
     "outputs": []
    },
    {
     "cell_type": "markdown",
     "metadata": {},
     "source": [
      "And we can do the same thing with edges - how about 2014 interstate migration (from\n",
      "\n",
      "https://www.census.gov/hhes/migration/data/acs/state-to-state.html):"
     ]
    },
    {
     "cell_type": "code",
     "collapsed": false,
     "input": [
      "g.add_edge('New York', 'California', { \"net migration\": 7171})\n",
      "g.add_edge('New York', 'Texas', { \"net migration\": 6810 })\n",
      "g.add_edge(\"Texas\", \"California\", { \"net migration\": 34028 } )\n",
      "print g.edges(data=True)"
     ],
     "language": "python",
     "metadata": {},
     "outputs": []
    },
    {
     "cell_type": "markdown",
     "metadata": {},
     "source": [
      "Now let's try including this information in our diagram.  For more information on network drawing options, see:\n",
      "\n",
      "https://networkx.readthedocs.org/en/stable/tutorial/tutorial.html#drawing-graphs\n"
     ]
    },
    {
     "cell_type": "code",
     "collapsed": false,
     "input": [
      "pylab.rcParams['figure.figsize'] = (4.0, 4.0)\n",
      "nx.draw(g, with_labels=True)"
     ],
     "language": "python",
     "metadata": {},
     "outputs": []
    },
    {
     "cell_type": "markdown",
     "metadata": {},
     "source": [
      "Adding node sizes:"
     ]
    },
    {
     "cell_type": "code",
     "collapsed": false,
     "input": [
      "sizes = [n[1][\"population\"]/10000.0 for n in g.nodes(data=True)]\n",
      "nx.draw(g, with_labels=True, node_size=sizes)"
     ],
     "language": "python",
     "metadata": {},
     "outputs": []
    },
    {
     "cell_type": "markdown",
     "metadata": {},
     "source": [
      "Adding line weights:"
     ]
    },
    {
     "cell_type": "code",
     "collapsed": false,
     "input": [
      "widths = [m[2][\"net migration\"]/5000 for m in g.edges(data=True)]\n",
      "nx.draw(g, with_labels=True, node_size=sizes, width=widths)"
     ],
     "language": "python",
     "metadata": {},
     "outputs": []
    },
    {
     "cell_type": "markdown",
     "metadata": {},
     "source": [
      "###Getting Data Out of NetworkX\n",
      "\n",
      "Usually NetworkX is used in combination with external data sources, both for input and for output. \n",
      "\n",
      "For output, NetworkX supports commonly-used graph formats that can be used by software like <a href=\"https://gephi.org/\">__Gephi__</a>, which is designed for manipulating graphs. Exporting to these formats is simply a matter of calling the applicable NetworkX function.  A list of them is available here:\n",
      "\n",
      "http://networkx.readthedocs.org/en/stable/reference/convert.html\n",
      "\n",
      "http://networkx.readthedocs.org/en/stable/reference/readwrite.html\n",
      "\n",
      "Here's an example of a random graph (more on this later), output to a file:"
     ]
    },
    {
     "cell_type": "code",
     "collapsed": false,
     "input": [
      "g = nx.erdos_renyi_graph(10, 0.2)\n",
      "nx.write_gexf(g, \"my_network_file.gefx\")"
     ],
     "language": "python",
     "metadata": {},
     "outputs": []
    },
    {
     "cell_type": "markdown",
     "metadata": {},
     "source": [
      "Let's look at the contents of the gefx format:"
     ]
    },
    {
     "cell_type": "code",
     "collapsed": false,
     "input": [
      "with open('my_network_file.gefx','r') as f:\n",
      "    print f.read()"
     ],
     "language": "python",
     "metadata": {},
     "outputs": []
    },
    {
     "cell_type": "markdown",
     "metadata": {},
     "source": [
      "Reading is then a matter of calling the corresponding read function:"
     ]
    },
    {
     "cell_type": "code",
     "collapsed": false,
     "input": [
      "g2 = nx.read_gexf(\"my_network_file.gefx\")\n",
      "print [n for n in nx.generate_edgelist(g2)]"
     ],
     "language": "python",
     "metadata": {},
     "outputs": []
    },
    {
     "cell_type": "markdown",
     "metadata": {},
     "source": [
      "We can also use NetworkX to convert between different representations of graphs, for example:"
     ]
    },
    {
     "cell_type": "code",
     "collapsed": false,
     "input": [
      "# A dictionary of dictionarys:\n",
      "print nx.to_dict_of_dicts(g2)"
     ],
     "language": "python",
     "metadata": {},
     "outputs": []
    },
    {
     "cell_type": "code",
     "collapsed": false,
     "input": [
      "# A dictionary of lists:\n",
      "print nx.to_dict_of_lists(g2)"
     ],
     "language": "python",
     "metadata": {},
     "outputs": []
    },
    {
     "cell_type": "code",
     "collapsed": false,
     "input": [
      "# A numpy array:\n",
      "import numpy as np\n",
      "print nx.to_numpy_matrix(g)"
     ],
     "language": "python",
     "metadata": {},
     "outputs": []
    },
    {
     "cell_type": "markdown",
     "metadata": {},
     "source": [
      "Converting to numpy matrixes exposes data embedded in networkx to further analsysis and explration via matrix operations.  See Newman chapter 11 for a good introduction."
     ]
    },
    {
     "cell_type": "markdown",
     "metadata": {},
     "source": [
      "### Getting data into NetworkX\n",
      "\n",
      "Data import works similarly if the data is already in a graph-compatible format.  But, often, you may be working with tabular data, which can often be translated directly into nodes and edges.   \n",
      "\n",
      "For example, the file state_to_state.txt contains tab-delimited data on the amount of grant funding flowing between states in 2009.  Let's take a look at the contents:"
     ]
    },
    {
     "cell_type": "code",
     "collapsed": false,
     "input": [
      "with open('state_to_state.txt','r') as f:\n",
      "    print f.read()"
     ],
     "language": "python",
     "metadata": {},
     "outputs": []
    },
    {
     "cell_type": "markdown",
     "metadata": {},
     "source": [
      "This is simply the result of a SQL group-by.  Output from SQL queries can often be interpreted as edge lists straightforwardly.  It is simply a matter of choosing which attributes are nodes, and which are edges.  Typically, the nodes would be the group-by columns, and the edges would be determined by co-occurrence in the same row, and edge attributes by the results of aggregate functions.\n",
      "\n",
      "    select item1, item2, sum(amount) from table group by item1, item2"
     ]
    },
    {
     "cell_type": "markdown",
     "metadata": {},
     "source": [
      "###Displaying Graph Data\n",
      "\n",
      "It's possible to alter parameters to draw more revealing graphs. Just by visualizing them, it's possible to glean interesting information from the data that is hard to get otherwise. Here are some examples from Foundation Maps:\n",
      "\n",
      "https://raw.githubusercontent.com/gmg444/dgd2016/master/Constellations_ClimateChangeCalifornia.png\n",
      "\n",
      "https://raw.githubusercontent.com/gmg444/dgd2016/master/Constellations_EducationIndia.png\n",
      "\n",
      "https://raw.githubusercontent.com/gmg444/dgd2016/master/Constellations_DetroitPerformingArts.png"
     ]
    },
    {
     "cell_type": "markdown",
     "metadata": {},
     "source": [
      "The next important decision after which are nodes and which are edges, are which tabular attributes are important to represent in the graph.  In this example, you can see that the edge amount and node location attributes are important for a visual representation:"
     ]
    },
    {
     "cell_type": "code",
     "collapsed": false,
     "input": [
      "pylab.rcParams['figure.figsize'] = (5.0, 5.0) \n",
      "with open(\"state_to_state.txt\") as f:\n",
      "    content = f.readlines()\n",
      "g = nx.Graph()\n",
      "for line in content:\n",
      "    arr = line.encode('ascii', 'ignore').replace(\"\\n\", \"\").split(\"\\t\") \n",
      "    g.add_node(arr[0], { \"lat\": float(arr[1]), \"lon\": float(arr[2]) })\n",
      "    g.add_node(arr[4], { \"lat\": float(arr[5]), \"lon\": float(arr[6]) })\n",
      "    amt = int(arr[3])\n",
      "    g.add_edge(arr[0], arr[4], { \"amount\": amt })\n",
      "#for n in g.nodes():\n",
      "#    if n is None:\n",
      "#        g.remove_node(n)\n",
      "nx.draw(g)\n",
      "plt.show()"
     ],
     "language": "python",
     "metadata": {},
     "outputs": []
    },
    {
     "cell_type": "markdown",
     "metadata": {},
     "source": [
      "Not very informative.... Specifying the position of the nodes and width of the edges from attribute data makes things much clearer:"
     ]
    },
    {
     "cell_type": "code",
     "collapsed": false,
     "input": [
      "pylab.rcParams['figure.figsize'] = (15.0, 8.0)\n",
      "\n",
      "# print g.nodes(data=True)\n",
      "\n",
      "position = {}\n",
      "for n in g.nodes(data=True):\n",
      "    if n[0] is None:\n",
      "        continue\n",
      "    position[n[0]] = [n[1].get('lon', 0), n[1].get('lat', 0)]\n",
      " \n",
      "widths = [m[2][\"amount\"]/100000000 for m in g.edges(data=True)]\n",
      "nx.draw(g, position, width=widths, with_labels=True)\n",
      "plt.show()"
     ],
     "language": "python",
     "metadata": {},
     "outputs": []
    },
    {
     "cell_type": "markdown",
     "metadata": {},
     "source": [
      "###Interactive Visualization\n",
      "\n",
      "Static visualizations can be problematic with network data. Dynamic and/or interactive visualizations can be more effective because they allow you to reduce the obscuring effect of multiple overlapping lines (the \"hairball\" effect). For example, this data represented as a static graph can be difficult to decipher.  It contains a the co-occurrence of different grant subjects among a set of grants."
     ]
    },
    {
     "cell_type": "code",
     "collapsed": false,
     "input": [
      "with open('subject_to_subject.txt','r') as f:\n",
      "    print f.read()"
     ],
     "language": "python",
     "metadata": {},
     "outputs": []
    },
    {
     "cell_type": "markdown",
     "metadata": {},
     "source": [
      "We can use the csv library to read the file into a dictionary:"
     ]
    },
    {
     "cell_type": "code",
     "collapsed": false,
     "input": [
      "pylab.rcParams['figure.figsize'] = (3.0, 3.0) \n",
      "\n",
      "import csv\n",
      "\n",
      "g=nx.Graph()  #  Let's create an undirected graph to hold the \n",
      "with open('subject_to_subject.txt','r') as f:\n",
      "    data = f.read()\n",
      "reader = csv.DictReader(data.splitlines(), delimiter='\\t')\n",
      "for row in reader:\n",
      "    g.add_edge(row[\"label1\"], row[\"label2\"], { \"amount\": row[\"amount\"]})\n",
      "nx.draw(g)"
     ],
     "language": "python",
     "metadata": {},
     "outputs": []
    },
    {
     "cell_type": "markdown",
     "metadata": {},
     "source": [
      "Whereas an interactive visualization of the same data can be easier to make sense of:\n",
      "\n",
      "http://gis.foundationcenter.org/networkxd3/subject_chords.html"
     ]
    },
    {
     "cell_type": "markdown",
     "metadata": {},
     "source": [
      "We use JavaScript / D3 for many visualizations. In this case the data was read directly into a javascript data structure for visualization in D3:\n",
      "\n",
      "    d3.tsv(\"SubjectToSubject.txt\", function(subjectToSubject){\n",
      "        var i;\n",
      "        var nodes = []\n",
      "        var edges = []\n",
      "        for(i=0; i<subjectToSubject.length; i++){\n",
      "            if (nodes.indexOf(subjectToSubject[i].id1) < 0){\n",
      "                nodes.push(subjectToSubject[i].id1);\n",
      "            }\n",
      "            var e = {};\n",
      "            e[\"node1\"] = subjectToSubject[i].id1    ;\n",
      "            e[\"value\"] = subjectToSubject[i].count;\n",
      "            e[\"node2\"] = subjectToSubject[i].id2;\n",
      "            edges.push(e);\n",
      "        }\n",
      "\n",
      "        m = createMatrix(nodes, edges);\n",
      "        visualize(m, nodes);\n",
      "    });\n",
      "\n",
      "However, like many JavaScript visulization tools, D3 works well with data in JSON format.  A typical JSON graph format contains two lists of objects - one of nodes, another of links, similar to the gefx format in XML.  Fortunately, NetworkX has built-in support for generating JSON data in this format:"
     ]
    },
    {
     "cell_type": "code",
     "collapsed": false,
     "input": [
      "import networkx as nx\n",
      "from networkx.readwrite import json_graph\n",
      "json_graph.node_link_data(g, attrs= dict(id='name',  source='source', target='target', key='key'))"
     ],
     "language": "python",
     "metadata": {},
     "outputs": []
    },
    {
     "cell_type": "markdown",
     "metadata": {},
     "source": [
      "Along related lines, a similarity matrix, where every node is connected to every other node by an edge with a distance or similarity measure, is indecipherable if there are too many nodes, as the number of edges is close to the square of the number of nodes:"
     ]
    },
    {
     "cell_type": "code",
     "collapsed": false,
     "input": [
      "pylab.rcParams['figure.figsize'] = (5.0, 5.0) \n",
      "g = nx.complete_graph(20)\n",
      "pos=nx.spring_layout(g)\n",
      "nx.draw(g, pos=pos)"
     ],
     "language": "python",
     "metadata": {},
     "outputs": []
    },
    {
     "cell_type": "markdown",
     "metadata": {},
     "source": [
      "Whereas an interactive matrix can be much easier to understand:\n",
      "\n",
      "http://gis.foundationcenter.org/networkxd3/foundation_matrix.html"
     ]
    },
    {
     "cell_type": "markdown",
     "metadata": {},
     "source": [
      "[test]: https://raw.githubusercontent.com/gmg444/dgd2016/master/Constellations_ClimateChangeCalifornia.png?raw=true"
     ]
    },
    {
     "cell_type": "markdown",
     "metadata": {},
     "source": [
      "In this notebook we demonstrated some basic ways of getting data into and out of NetworkX graphs.  In the next section, we'll look at some different kinds of networks and measures that can be used to describe their structure."
     ]
    },
    {
     "cell_type": "markdown",
     "metadata": {},
     "source": [
      "###References\n",
      "\n",
      "Aric A. Hagberg, Daniel A. Schult and Pieter J. Swart, \u201cExploring network structure, dynamics, and function using NetworkX\u201d, in Proceedings of the 7th Python in Science Conference (SciPy2008), G\u00e4el Varoquaux, Travis Vaught, and Jarrod Millman (Eds), (Pasadena, CA USA), pp. 11\u201315, Aug 2008\n",
      "\n",
      "Bostock, Michael, Vadim Ogievetsky, and Jeffrey Heer. \"D\u00b3 data-driven documents.\" Visualization and Computer Graphics, IEEE Transactions on 17.12 (2011): 2301-2309.\n",
      "\n",
      "Brath, Richard, and David Jonker. Graph Analysis and Visualization: Discovering Business Opportunity in Linked Data. John Wiley & Sons, 2015."
     ]
    }
   ],
   "metadata": {}
  }
 ]
}