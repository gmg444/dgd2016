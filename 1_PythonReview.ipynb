{
 "metadata": {
  "name": "",
  "signature": "sha256:f6f75f20d6e0545254796c65723ed2dcf7173ae201df9f2088f907c597c6dfa5"
 },
 "nbformat": 3,
 "nbformat_minor": 0,
 "worksheets": [
  {
   "cells": [
    {
     "cell_type": "markdown",
     "metadata": {},
     "source": [
      "## Python QuickTour/Review"
     ]
    },
    {
     "cell_type": "markdown",
     "metadata": {},
     "source": [
      "This notebook includes a quick review of the elements of the Python language we will need to discuss NetworkX.   Each editable box contains a chunk of code that will execute when you press **shift + enter**.  Try it here - try it with and without the \"print\":"
     ]
    },
    {
     "cell_type": "code",
     "collapsed": false,
     "input": [
      "print \"Hello world!\""
     ],
     "language": "python",
     "metadata": {},
     "outputs": []
    },
    {
     "cell_type": "markdown",
     "metadata": {},
     "source": [
      "###Variables\n",
      "\n",
      "A *variable* represents a piece of data that you can store in memory for later use.  Variables can have one of several **types**, especially **string** (sequence of characters), **integer** (whole number), or **float** (number with decimals). Variables can have any name we want, without spaces. \n",
      "\n",
      "You can put a value into a variable using the equals sign.  More details are <a href=\"http://www.python-course.eu/variables.php\">here</a>.\n",
      "\n",
      "Try running these commands to see variables in action:"
     ]
    },
    {
     "cell_type": "code",
     "collapsed": false,
     "input": [
      "my_string_variable = \"Hello world\"\n",
      "print my_string_variable\n",
      "print type(my_string_variable)"
     ],
     "language": "python",
     "metadata": {},
     "outputs": []
    },
    {
     "cell_type": "code",
     "collapsed": false,
     "input": [
      "my_float_variable = 123.45\n",
      "print my_float_variable\n",
      "print type(my_float_variable)"
     ],
     "language": "python",
     "metadata": {},
     "outputs": []
    },
    {
     "cell_type": "markdown",
     "metadata": {},
     "source": [
      "Python supports basic arithmetic operators, where are _overloaded_ to support different types, but not all types.  For example:"
     ]
    },
    {
     "cell_type": "code",
     "collapsed": false,
     "input": [
      "print my_string_variable + \"!\"\n",
      "print my_float_variable + 0.5\n",
      "print my_string_variable + 0.5"
     ],
     "language": "python",
     "metadata": {},
     "outputs": []
    },
    {
     "cell_type": "markdown",
     "metadata": {},
     "source": [
      "###Lists \n",
      "\n",
      "Lists are the workhorse collection type for managing series of similar variables.  They consist of a series of elements, indicated by square brackets:"
     ]
    },
    {
     "cell_type": "code",
     "collapsed": false,
     "input": [
      "my_list_variable = [1,2,9,6,2]\n",
      "print my_list_variable"
     ],
     "language": "python",
     "metadata": {},
     "outputs": []
    },
    {
     "cell_type": "markdown",
     "metadata": {},
     "source": [
      "Individual elements are accessed by a sequential index number, also surrounded by square brackets, starting with zero. Negative numbers wrap to the end of the list.  Note the error when we access an index number past the end of the list:"
     ]
    },
    {
     "cell_type": "code",
     "collapsed": false,
     "input": [
      "print my_list_variable[2]\n",
      "print my_list_variable[-1]\n",
      "print my_list_variable[99]"
     ],
     "language": "python",
     "metadata": {},
     "outputs": []
    },
    {
     "cell_type": "markdown",
     "metadata": {},
     "source": [
      "A new list can be created with empty brackets:"
     ]
    },
    {
     "cell_type": "code",
     "collapsed": false,
     "input": [
      "another_list = []\n",
      "print type(another_list)"
     ],
     "language": "python",
     "metadata": {},
     "outputs": []
    },
    {
     "cell_type": "markdown",
     "metadata": {},
     "source": [
      "Items can be added using the append function, either to append individual items or multiples."
     ]
    },
    {
     "cell_type": "code",
     "collapsed": false,
     "input": [
      "another_list.append([1,2,3,4,5])\n",
      "print another_list"
     ],
     "language": "python",
     "metadata": {},
     "outputs": []
    },
    {
     "cell_type": "markdown",
     "metadata": {},
     "source": [
      "The built-in len() function tells you how long a list is:"
     ]
    },
    {
     "cell_type": "code",
     "collapsed": false,
     "input": [
      "len(my_list_variable)"
     ],
     "language": "python",
     "metadata": {},
     "outputs": []
    },
    {
     "cell_type": "markdown",
     "metadata": {},
     "source": [
      "List can contain any type of data, like strings:"
     ]
    },
    {
     "cell_type": "code",
     "collapsed": false,
     "input": [
      "my_list_var = [\"good\", \"morning\"]\n",
      "print my_list_var"
     ],
     "language": "python",
     "metadata": {},
     "outputs": []
    },
    {
     "cell_type": "markdown",
     "metadata": {},
     "source": [
      "###Dictionaries\n",
      "\n",
      "Dictionaries are also very common, and are particularly useful for representing Networks in Python.  They consist of key / value pairs, indicated by curly braces:"
     ]
    },
    {
     "cell_type": "code",
     "collapsed": false,
     "input": [
      "my_dictionary = { \"word\": \"the\", \"count\": 123456789 }\n",
      "print my_dictionary"
     ],
     "language": "python",
     "metadata": {},
     "outputs": []
    },
    {
     "cell_type": "markdown",
     "metadata": {},
     "source": [
      "Individual elements are accessed the key, also using *square* brackets, for example:"
     ]
    },
    {
     "cell_type": "code",
     "collapsed": false,
     "input": [
      "print my_dictionary[\"word\"]\n",
      "print my_dictionary[\"count\"]"
     ],
     "language": "python",
     "metadata": {},
     "outputs": []
    },
    {
     "cell_type": "markdown",
     "metadata": {},
     "source": [
      "The elements stored in lists and dictionaries can be treated like any other variables, for example:"
     ]
    },
    {
     "cell_type": "code",
     "collapsed": false,
     "input": [
      "a = my_list_variable[3] + my_dictionary[\"count\"]\n",
      "print a"
     ],
     "language": "python",
     "metadata": {},
     "outputs": []
    },
    {
     "cell_type": "markdown",
     "metadata": {},
     "source": [
      "###Functions\n",
      "\n",
      "Functions are multiple statements grouped together and given a name.  Functions are indicated by parentheses following the name. Functions must first be *defined* before they can be used.  \n",
      "\n",
      "Note the colon following the function definition. Also, note that in Python indentation is significant - it knows the second line below is part of the function because it is indented following the function name:"
     ]
    },
    {
     "cell_type": "code",
     "collapsed": false,
     "input": [
      "def say_hello():\n",
      "    print \"Hello world\""
     ],
     "language": "python",
     "metadata": {},
     "outputs": []
    },
    {
     "cell_type": "markdown",
     "metadata": {},
     "source": [
      "Functions are *called* by using the parentheses only, without the \"def\" or colon:"
     ]
    },
    {
     "cell_type": "code",
     "collapsed": false,
     "input": [
      "say_hello()"
     ],
     "language": "python",
     "metadata": {},
     "outputs": []
    },
    {
     "cell_type": "markdown",
     "metadata": {},
     "source": [
      "Within the parentheses, *arguments* can be *passed* to the function, which operates on the parameter.  For example:"
     ]
    },
    {
     "cell_type": "code",
     "collapsed": false,
     "input": [
      "def say_hello(name):\n",
      "    print \"hello, \" + name + \"!\""
     ],
     "language": "python",
     "metadata": {},
     "outputs": []
    },
    {
     "cell_type": "markdown",
     "metadata": {},
     "source": [
      "This then lets us use the function with multiple different values:"
     ]
    },
    {
     "cell_type": "code",
     "collapsed": false,
     "input": [
      "say_hello(\"there\")\n",
      "say_hello(\"bunny rabbit\")\n",
      "say_hello(my_string_variable)"
     ],
     "language": "python",
     "metadata": {},
     "outputs": []
    },
    {
     "cell_type": "markdown",
     "metadata": {},
     "source": [
      "Functions can also be set up to return values, using the keyword \"return\":"
     ]
    },
    {
     "cell_type": "code",
     "collapsed": false,
     "input": [
      "def square(n):\n",
      "    return n ** 2"
     ],
     "language": "python",
     "metadata": {},
     "outputs": []
    },
    {
     "cell_type": "markdown",
     "metadata": {},
     "source": [
      "The returned values can then be assigned to variables, for example:"
     ]
    },
    {
     "cell_type": "code",
     "collapsed": false,
     "input": [
      "b = square(4)\n",
      "c = b * square(b)\n",
      "print c"
     ],
     "language": "python",
     "metadata": {},
     "outputs": []
    },
    {
     "cell_type": "markdown",
     "metadata": {},
     "source": [
      "###A few built-in functions\n",
      "\n",
      "range - returns a list of numbers, with a given, start, end and step:"
     ]
    },
    {
     "cell_type": "code",
     "collapsed": false,
     "input": [
      "print range(5)\n",
      "print range(5, 10)\n",
      "print range(5, 100, 5)"
     ],
     "language": "python",
     "metadata": {},
     "outputs": []
    },
    {
     "cell_type": "markdown",
     "metadata": {},
     "source": [
      "sorted - sorts a list:"
     ]
    },
    {
     "cell_type": "code",
     "collapsed": false,
     "input": [
      "my_list = [2,4,25,6,7,5]\n",
      "print sorted(my_list)"
     ],
     "language": "python",
     "metadata": {},
     "outputs": []
    },
    {
     "cell_type": "markdown",
     "metadata": {},
     "source": [
      "Built-in functions are often grouped into *modules*, for example, random - returns a random number between zero and one.  The dot notation means that you are referencing something that is contained in another, in this case the rand function within the random module."
     ]
    },
    {
     "cell_type": "code",
     "collapsed": false,
     "input": [
      "random.rand()"
     ],
     "language": "python",
     "metadata": {},
     "outputs": []
    },
    {
     "cell_type": "markdown",
     "metadata": {},
     "source": [
      "###Flow Control\n",
      "\n",
      "Each line we have worked with so far is a statement, which we've been running individually.  Flow control commands (keywords) determine the sequence in which they will execute.  \n",
      "\n",
      "*for*-*in* iterates over items; *if*-*else* conditionally selected between statements.  Note the colon and indentation define which statements are included in the conditional blocks."
     ]
    },
    {
     "cell_type": "code",
     "collapsed": false,
     "input": [
      "x = range(10)\n",
      "for a in x:\n",
      "    if a > random.rand() * 10:\n",
      "        print a\n",
      "    else:\n",
      "        print \"false\"\n",
      "print \"all done\""
     ],
     "language": "python",
     "metadata": {},
     "outputs": []
    },
    {
     "cell_type": "markdown",
     "metadata": {},
     "source": [
      "###List comprehensions\n",
      "*List comprehensions* use a special variation of the bracket notation to iterate over a list. We will be using them to iterate over network elements:"
     ]
    },
    {
     "cell_type": "code",
     "collapsed": false,
     "input": [
      "a = range(10)\n",
      "print a\n",
      "b = [n/10.0 for n in a]\n",
      "print b"
     ],
     "language": "python",
     "metadata": {},
     "outputs": []
    },
    {
     "cell_type": "markdown",
     "metadata": {},
     "source": [
      "###import\n",
      "\n",
      "Import brings in the module, \"as\" lets you assign an alias or shorthand for its contents:"
     ]
    },
    {
     "cell_type": "code",
     "collapsed": false,
     "input": [
      "import networkx as nx"
     ],
     "language": "python",
     "metadata": {},
     "outputs": []
    },
    {
     "cell_type": "markdown",
     "metadata": {},
     "source": [
      "##Ok, that's it!  That completes our extremely quick tour of Python.\n",
      "\n",
      "&nbsp;<br/>\n",
      "&nbsp;<br/>\n",
      "&nbsp;<br/>\n",
      "&nbsp;<br/>\n",
      "&nbsp;<br/>\n",
      "&nbsp;<br/>\n",
      "&nbsp;<br/>\n",
      "&nbsp;<br/>"
     ]
    },
    {
     "cell_type": "code",
     "collapsed": false,
     "input": [
      "range(10)"
     ],
     "language": "python",
     "metadata": {},
     "outputs": []
    },
    {
     "cell_type": "code",
     "collapsed": false,
     "input": [
      "a = []\n",
      "for i in range(10):\n",
      "    a.append(random.rand())"
     ],
     "language": "python",
     "metadata": {},
     "outputs": []
    },
    {
     "cell_type": "markdown",
     "metadata": {},
     "source": [
      "OR"
     ]
    },
    {
     "cell_type": "code",
     "collapsed": false,
     "input": [
      "a = [random.rand() for b in range(10)]"
     ],
     "language": "python",
     "metadata": {},
     "outputs": []
    },
    {
     "cell_type": "code",
     "collapsed": false,
     "input": [
      "b = sorted(a)"
     ],
     "language": "python",
     "metadata": {},
     "outputs": []
    },
    {
     "cell_type": "code",
     "collapsed": false,
     "input": [
      "print b[-2]"
     ],
     "language": "python",
     "metadata": {},
     "outputs": []
    },
    {
     "cell_type": "markdown",
     "metadata": {},
     "source": [
      "Or, in one line:"
     ]
    },
    {
     "cell_type": "code",
     "collapsed": false,
     "input": [
      "sorted([random.rand() for i in range(10)])[-2]\n"
     ],
     "language": "python",
     "metadata": {},
     "outputs": []
    }
   ],
   "metadata": {}
  }
 ]
}